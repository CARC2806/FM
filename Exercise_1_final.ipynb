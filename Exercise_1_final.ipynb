{
  "nbformat": 4,
  "nbformat_minor": 0,
  "metadata": {
    "colab": {
      "provenance": [],
      "collapsed_sections": [
        "lLXz24UHnm-y",
        "r68sRtUGj32X",
        "SeJoWj2uniPe",
        "uZZiaskCpU0i",
        "dmZ7u0FOu_x0",
        "mfOxDotJngmT",
        "mAueToYZvEj3"
      ],
      "authorship_tag": "ABX9TyNCQTYiJczqQWAdmUnqF84q",
      "include_colab_link": true
    },
    "kernelspec": {
      "name": "python3",
      "display_name": "Python 3"
    },
    "language_info": {
      "name": "python"
    }
  },
  "cells": [
    {
      "cell_type": "markdown",
      "metadata": {
        "id": "view-in-github",
        "colab_type": "text"
      },
      "source": [
        "<a href=\"https://colab.research.google.com/github/CARC2806/FM/blob/main/Exercise_1_final.ipynb\" target=\"_parent\"><img src=\"https://colab.research.google.com/assets/colab-badge.svg\" alt=\"Open In Colab\"/></a>"
      ]
    },
    {
      "cell_type": "code",
      "execution_count": 2,
      "metadata": {
        "id": "7iqxEEkbQSbi"
      },
      "outputs": [],
      "source": [
        "import pandas as pd\n",
        "import numpy as np\n",
        "import warnings\n",
        "import matplotlib.pyplot as plt"
      ]
    },
    {
      "cell_type": "markdown",
      "source": [
        "#Part A"
      ],
      "metadata": {
        "id": "lLXz24UHnm-y"
      }
    },
    {
      "cell_type": "markdown",
      "source": [
        "##Weekend Effect"
      ],
      "metadata": {
        "id": "r68sRtUGj32X"
      }
    },
    {
      "cell_type": "code",
      "source": [
        "apple = pd.read_csv('/content/AAPL (1).csv')"
      ],
      "metadata": {
        "id": "_Ekje2JMQabP"
      },
      "execution_count": 4,
      "outputs": []
    },
    {
      "cell_type": "code",
      "source": [
        "apple = apple[['Date', 'Adj Close']]\n",
        "apple = apple.rename(columns={'Adj Close': 'Price'})\n",
        "apple"
      ],
      "metadata": {
        "colab": {
          "base_uri": "https://localhost:8080/",
          "height": 424
        },
        "id": "ep7KcKrSSZBs",
        "outputId": "3b6326e1-d01f-443d-d613-ed5ba6d387de"
      },
      "execution_count": 5,
      "outputs": [
        {
          "output_type": "execute_result",
          "data": {
            "text/plain": [
              "            Date       Price\n",
              "0     2018-09-18   52.253944\n",
              "1     2018-09-19   52.285072\n",
              "2     2018-09-20   52.682541\n",
              "3     2018-09-21   52.115070\n",
              "4     2018-09-24   52.864510\n",
              "...          ...         ...\n",
              "1252  2023-09-11  179.360001\n",
              "1253  2023-09-12  176.300003\n",
              "1254  2023-09-13  174.210007\n",
              "1255  2023-09-14  175.740005\n",
              "1256  2023-09-15  175.009995\n",
              "\n",
              "[1257 rows x 2 columns]"
            ],
            "text/html": [
              "\n",
              "  <div id=\"df-aa6317e5-b9eb-44c3-8556-441ec9d7f0f0\" class=\"colab-df-container\">\n",
              "    <div>\n",
              "<style scoped>\n",
              "    .dataframe tbody tr th:only-of-type {\n",
              "        vertical-align: middle;\n",
              "    }\n",
              "\n",
              "    .dataframe tbody tr th {\n",
              "        vertical-align: top;\n",
              "    }\n",
              "\n",
              "    .dataframe thead th {\n",
              "        text-align: right;\n",
              "    }\n",
              "</style>\n",
              "<table border=\"1\" class=\"dataframe\">\n",
              "  <thead>\n",
              "    <tr style=\"text-align: right;\">\n",
              "      <th></th>\n",
              "      <th>Date</th>\n",
              "      <th>Price</th>\n",
              "    </tr>\n",
              "  </thead>\n",
              "  <tbody>\n",
              "    <tr>\n",
              "      <th>0</th>\n",
              "      <td>2018-09-18</td>\n",
              "      <td>52.253944</td>\n",
              "    </tr>\n",
              "    <tr>\n",
              "      <th>1</th>\n",
              "      <td>2018-09-19</td>\n",
              "      <td>52.285072</td>\n",
              "    </tr>\n",
              "    <tr>\n",
              "      <th>2</th>\n",
              "      <td>2018-09-20</td>\n",
              "      <td>52.682541</td>\n",
              "    </tr>\n",
              "    <tr>\n",
              "      <th>3</th>\n",
              "      <td>2018-09-21</td>\n",
              "      <td>52.115070</td>\n",
              "    </tr>\n",
              "    <tr>\n",
              "      <th>4</th>\n",
              "      <td>2018-09-24</td>\n",
              "      <td>52.864510</td>\n",
              "    </tr>\n",
              "    <tr>\n",
              "      <th>...</th>\n",
              "      <td>...</td>\n",
              "      <td>...</td>\n",
              "    </tr>\n",
              "    <tr>\n",
              "      <th>1252</th>\n",
              "      <td>2023-09-11</td>\n",
              "      <td>179.360001</td>\n",
              "    </tr>\n",
              "    <tr>\n",
              "      <th>1253</th>\n",
              "      <td>2023-09-12</td>\n",
              "      <td>176.300003</td>\n",
              "    </tr>\n",
              "    <tr>\n",
              "      <th>1254</th>\n",
              "      <td>2023-09-13</td>\n",
              "      <td>174.210007</td>\n",
              "    </tr>\n",
              "    <tr>\n",
              "      <th>1255</th>\n",
              "      <td>2023-09-14</td>\n",
              "      <td>175.740005</td>\n",
              "    </tr>\n",
              "    <tr>\n",
              "      <th>1256</th>\n",
              "      <td>2023-09-15</td>\n",
              "      <td>175.009995</td>\n",
              "    </tr>\n",
              "  </tbody>\n",
              "</table>\n",
              "<p>1257 rows × 2 columns</p>\n",
              "</div>\n",
              "    <div class=\"colab-df-buttons\">\n",
              "\n",
              "  <div class=\"colab-df-container\">\n",
              "    <button class=\"colab-df-convert\" onclick=\"convertToInteractive('df-aa6317e5-b9eb-44c3-8556-441ec9d7f0f0')\"\n",
              "            title=\"Convert this dataframe to an interactive table.\"\n",
              "            style=\"display:none;\">\n",
              "\n",
              "  <svg xmlns=\"http://www.w3.org/2000/svg\" height=\"24px\" viewBox=\"0 -960 960 960\">\n",
              "    <path d=\"M120-120v-720h720v720H120Zm60-500h600v-160H180v160Zm220 220h160v-160H400v160Zm0 220h160v-160H400v160ZM180-400h160v-160H180v160Zm440 0h160v-160H620v160ZM180-180h160v-160H180v160Zm440 0h160v-160H620v160Z\"/>\n",
              "  </svg>\n",
              "    </button>\n",
              "\n",
              "  <style>\n",
              "    .colab-df-container {\n",
              "      display:flex;\n",
              "      gap: 12px;\n",
              "    }\n",
              "\n",
              "    .colab-df-convert {\n",
              "      background-color: #E8F0FE;\n",
              "      border: none;\n",
              "      border-radius: 50%;\n",
              "      cursor: pointer;\n",
              "      display: none;\n",
              "      fill: #1967D2;\n",
              "      height: 32px;\n",
              "      padding: 0 0 0 0;\n",
              "      width: 32px;\n",
              "    }\n",
              "\n",
              "    .colab-df-convert:hover {\n",
              "      background-color: #E2EBFA;\n",
              "      box-shadow: 0px 1px 2px rgba(60, 64, 67, 0.3), 0px 1px 3px 1px rgba(60, 64, 67, 0.15);\n",
              "      fill: #174EA6;\n",
              "    }\n",
              "\n",
              "    .colab-df-buttons div {\n",
              "      margin-bottom: 4px;\n",
              "    }\n",
              "\n",
              "    [theme=dark] .colab-df-convert {\n",
              "      background-color: #3B4455;\n",
              "      fill: #D2E3FC;\n",
              "    }\n",
              "\n",
              "    [theme=dark] .colab-df-convert:hover {\n",
              "      background-color: #434B5C;\n",
              "      box-shadow: 0px 1px 3px 1px rgba(0, 0, 0, 0.15);\n",
              "      filter: drop-shadow(0px 1px 2px rgba(0, 0, 0, 0.3));\n",
              "      fill: #FFFFFF;\n",
              "    }\n",
              "  </style>\n",
              "\n",
              "    <script>\n",
              "      const buttonEl =\n",
              "        document.querySelector('#df-aa6317e5-b9eb-44c3-8556-441ec9d7f0f0 button.colab-df-convert');\n",
              "      buttonEl.style.display =\n",
              "        google.colab.kernel.accessAllowed ? 'block' : 'none';\n",
              "\n",
              "      async function convertToInteractive(key) {\n",
              "        const element = document.querySelector('#df-aa6317e5-b9eb-44c3-8556-441ec9d7f0f0');\n",
              "        const dataTable =\n",
              "          await google.colab.kernel.invokeFunction('convertToInteractive',\n",
              "                                                    [key], {});\n",
              "        if (!dataTable) return;\n",
              "\n",
              "        const docLinkHtml = 'Like what you see? Visit the ' +\n",
              "          '<a target=\"_blank\" href=https://colab.research.google.com/notebooks/data_table.ipynb>data table notebook</a>'\n",
              "          + ' to learn more about interactive tables.';\n",
              "        element.innerHTML = '';\n",
              "        dataTable['output_type'] = 'display_data';\n",
              "        await google.colab.output.renderOutput(dataTable, element);\n",
              "        const docLink = document.createElement('div');\n",
              "        docLink.innerHTML = docLinkHtml;\n",
              "        element.appendChild(docLink);\n",
              "      }\n",
              "    </script>\n",
              "  </div>\n",
              "\n",
              "\n",
              "<div id=\"df-33b3b067-9911-40f3-b9b0-4db0295c8a95\">\n",
              "  <button class=\"colab-df-quickchart\" onclick=\"quickchart('df-33b3b067-9911-40f3-b9b0-4db0295c8a95')\"\n",
              "            title=\"Suggest charts.\"\n",
              "            style=\"display:none;\">\n",
              "\n",
              "<svg xmlns=\"http://www.w3.org/2000/svg\" height=\"24px\"viewBox=\"0 0 24 24\"\n",
              "     width=\"24px\">\n",
              "    <g>\n",
              "        <path d=\"M19 3H5c-1.1 0-2 .9-2 2v14c0 1.1.9 2 2 2h14c1.1 0 2-.9 2-2V5c0-1.1-.9-2-2-2zM9 17H7v-7h2v7zm4 0h-2V7h2v10zm4 0h-2v-4h2v4z\"/>\n",
              "    </g>\n",
              "</svg>\n",
              "  </button>\n",
              "\n",
              "<style>\n",
              "  .colab-df-quickchart {\n",
              "      --bg-color: #E8F0FE;\n",
              "      --fill-color: #1967D2;\n",
              "      --hover-bg-color: #E2EBFA;\n",
              "      --hover-fill-color: #174EA6;\n",
              "      --disabled-fill-color: #AAA;\n",
              "      --disabled-bg-color: #DDD;\n",
              "  }\n",
              "\n",
              "  [theme=dark] .colab-df-quickchart {\n",
              "      --bg-color: #3B4455;\n",
              "      --fill-color: #D2E3FC;\n",
              "      --hover-bg-color: #434B5C;\n",
              "      --hover-fill-color: #FFFFFF;\n",
              "      --disabled-bg-color: #3B4455;\n",
              "      --disabled-fill-color: #666;\n",
              "  }\n",
              "\n",
              "  .colab-df-quickchart {\n",
              "    background-color: var(--bg-color);\n",
              "    border: none;\n",
              "    border-radius: 50%;\n",
              "    cursor: pointer;\n",
              "    display: none;\n",
              "    fill: var(--fill-color);\n",
              "    height: 32px;\n",
              "    padding: 0;\n",
              "    width: 32px;\n",
              "  }\n",
              "\n",
              "  .colab-df-quickchart:hover {\n",
              "    background-color: var(--hover-bg-color);\n",
              "    box-shadow: 0 1px 2px rgba(60, 64, 67, 0.3), 0 1px 3px 1px rgba(60, 64, 67, 0.15);\n",
              "    fill: var(--button-hover-fill-color);\n",
              "  }\n",
              "\n",
              "  .colab-df-quickchart-complete:disabled,\n",
              "  .colab-df-quickchart-complete:disabled:hover {\n",
              "    background-color: var(--disabled-bg-color);\n",
              "    fill: var(--disabled-fill-color);\n",
              "    box-shadow: none;\n",
              "  }\n",
              "\n",
              "  .colab-df-spinner {\n",
              "    border: 2px solid var(--fill-color);\n",
              "    border-color: transparent;\n",
              "    border-bottom-color: var(--fill-color);\n",
              "    animation:\n",
              "      spin 1s steps(1) infinite;\n",
              "  }\n",
              "\n",
              "  @keyframes spin {\n",
              "    0% {\n",
              "      border-color: transparent;\n",
              "      border-bottom-color: var(--fill-color);\n",
              "      border-left-color: var(--fill-color);\n",
              "    }\n",
              "    20% {\n",
              "      border-color: transparent;\n",
              "      border-left-color: var(--fill-color);\n",
              "      border-top-color: var(--fill-color);\n",
              "    }\n",
              "    30% {\n",
              "      border-color: transparent;\n",
              "      border-left-color: var(--fill-color);\n",
              "      border-top-color: var(--fill-color);\n",
              "      border-right-color: var(--fill-color);\n",
              "    }\n",
              "    40% {\n",
              "      border-color: transparent;\n",
              "      border-right-color: var(--fill-color);\n",
              "      border-top-color: var(--fill-color);\n",
              "    }\n",
              "    60% {\n",
              "      border-color: transparent;\n",
              "      border-right-color: var(--fill-color);\n",
              "    }\n",
              "    80% {\n",
              "      border-color: transparent;\n",
              "      border-right-color: var(--fill-color);\n",
              "      border-bottom-color: var(--fill-color);\n",
              "    }\n",
              "    90% {\n",
              "      border-color: transparent;\n",
              "      border-bottom-color: var(--fill-color);\n",
              "    }\n",
              "  }\n",
              "</style>\n",
              "\n",
              "  <script>\n",
              "    async function quickchart(key) {\n",
              "      const quickchartButtonEl =\n",
              "        document.querySelector('#' + key + ' button');\n",
              "      quickchartButtonEl.disabled = true;  // To prevent multiple clicks.\n",
              "      quickchartButtonEl.classList.add('colab-df-spinner');\n",
              "      try {\n",
              "        const charts = await google.colab.kernel.invokeFunction(\n",
              "            'suggestCharts', [key], {});\n",
              "      } catch (error) {\n",
              "        console.error('Error during call to suggestCharts:', error);\n",
              "      }\n",
              "      quickchartButtonEl.classList.remove('colab-df-spinner');\n",
              "      quickchartButtonEl.classList.add('colab-df-quickchart-complete');\n",
              "    }\n",
              "    (() => {\n",
              "      let quickchartButtonEl =\n",
              "        document.querySelector('#df-33b3b067-9911-40f3-b9b0-4db0295c8a95 button');\n",
              "      quickchartButtonEl.style.display =\n",
              "        google.colab.kernel.accessAllowed ? 'block' : 'none';\n",
              "    })();\n",
              "  </script>\n",
              "</div>\n",
              "    </div>\n",
              "  </div>\n"
            ]
          },
          "metadata": {},
          "execution_count": 5
        }
      ]
    },
    {
      "cell_type": "code",
      "source": [
        "apple = pd.DataFrame(apple)\n",
        "apple"
      ],
      "metadata": {
        "colab": {
          "base_uri": "https://localhost:8080/",
          "height": 424
        },
        "id": "rl6xODk-Tb_6",
        "outputId": "9c2f2618-bd15-433e-847e-34843ec85109"
      },
      "execution_count": 6,
      "outputs": [
        {
          "output_type": "execute_result",
          "data": {
            "text/plain": [
              "            Date       Price\n",
              "0     2018-09-18   52.253944\n",
              "1     2018-09-19   52.285072\n",
              "2     2018-09-20   52.682541\n",
              "3     2018-09-21   52.115070\n",
              "4     2018-09-24   52.864510\n",
              "...          ...         ...\n",
              "1252  2023-09-11  179.360001\n",
              "1253  2023-09-12  176.300003\n",
              "1254  2023-09-13  174.210007\n",
              "1255  2023-09-14  175.740005\n",
              "1256  2023-09-15  175.009995\n",
              "\n",
              "[1257 rows x 2 columns]"
            ],
            "text/html": [
              "\n",
              "  <div id=\"df-d1976a6e-4768-4bf7-b73e-748db2a14382\" class=\"colab-df-container\">\n",
              "    <div>\n",
              "<style scoped>\n",
              "    .dataframe tbody tr th:only-of-type {\n",
              "        vertical-align: middle;\n",
              "    }\n",
              "\n",
              "    .dataframe tbody tr th {\n",
              "        vertical-align: top;\n",
              "    }\n",
              "\n",
              "    .dataframe thead th {\n",
              "        text-align: right;\n",
              "    }\n",
              "</style>\n",
              "<table border=\"1\" class=\"dataframe\">\n",
              "  <thead>\n",
              "    <tr style=\"text-align: right;\">\n",
              "      <th></th>\n",
              "      <th>Date</th>\n",
              "      <th>Price</th>\n",
              "    </tr>\n",
              "  </thead>\n",
              "  <tbody>\n",
              "    <tr>\n",
              "      <th>0</th>\n",
              "      <td>2018-09-18</td>\n",
              "      <td>52.253944</td>\n",
              "    </tr>\n",
              "    <tr>\n",
              "      <th>1</th>\n",
              "      <td>2018-09-19</td>\n",
              "      <td>52.285072</td>\n",
              "    </tr>\n",
              "    <tr>\n",
              "      <th>2</th>\n",
              "      <td>2018-09-20</td>\n",
              "      <td>52.682541</td>\n",
              "    </tr>\n",
              "    <tr>\n",
              "      <th>3</th>\n",
              "      <td>2018-09-21</td>\n",
              "      <td>52.115070</td>\n",
              "    </tr>\n",
              "    <tr>\n",
              "      <th>4</th>\n",
              "      <td>2018-09-24</td>\n",
              "      <td>52.864510</td>\n",
              "    </tr>\n",
              "    <tr>\n",
              "      <th>...</th>\n",
              "      <td>...</td>\n",
              "      <td>...</td>\n",
              "    </tr>\n",
              "    <tr>\n",
              "      <th>1252</th>\n",
              "      <td>2023-09-11</td>\n",
              "      <td>179.360001</td>\n",
              "    </tr>\n",
              "    <tr>\n",
              "      <th>1253</th>\n",
              "      <td>2023-09-12</td>\n",
              "      <td>176.300003</td>\n",
              "    </tr>\n",
              "    <tr>\n",
              "      <th>1254</th>\n",
              "      <td>2023-09-13</td>\n",
              "      <td>174.210007</td>\n",
              "    </tr>\n",
              "    <tr>\n",
              "      <th>1255</th>\n",
              "      <td>2023-09-14</td>\n",
              "      <td>175.740005</td>\n",
              "    </tr>\n",
              "    <tr>\n",
              "      <th>1256</th>\n",
              "      <td>2023-09-15</td>\n",
              "      <td>175.009995</td>\n",
              "    </tr>\n",
              "  </tbody>\n",
              "</table>\n",
              "<p>1257 rows × 2 columns</p>\n",
              "</div>\n",
              "    <div class=\"colab-df-buttons\">\n",
              "\n",
              "  <div class=\"colab-df-container\">\n",
              "    <button class=\"colab-df-convert\" onclick=\"convertToInteractive('df-d1976a6e-4768-4bf7-b73e-748db2a14382')\"\n",
              "            title=\"Convert this dataframe to an interactive table.\"\n",
              "            style=\"display:none;\">\n",
              "\n",
              "  <svg xmlns=\"http://www.w3.org/2000/svg\" height=\"24px\" viewBox=\"0 -960 960 960\">\n",
              "    <path d=\"M120-120v-720h720v720H120Zm60-500h600v-160H180v160Zm220 220h160v-160H400v160Zm0 220h160v-160H400v160ZM180-400h160v-160H180v160Zm440 0h160v-160H620v160ZM180-180h160v-160H180v160Zm440 0h160v-160H620v160Z\"/>\n",
              "  </svg>\n",
              "    </button>\n",
              "\n",
              "  <style>\n",
              "    .colab-df-container {\n",
              "      display:flex;\n",
              "      gap: 12px;\n",
              "    }\n",
              "\n",
              "    .colab-df-convert {\n",
              "      background-color: #E8F0FE;\n",
              "      border: none;\n",
              "      border-radius: 50%;\n",
              "      cursor: pointer;\n",
              "      display: none;\n",
              "      fill: #1967D2;\n",
              "      height: 32px;\n",
              "      padding: 0 0 0 0;\n",
              "      width: 32px;\n",
              "    }\n",
              "\n",
              "    .colab-df-convert:hover {\n",
              "      background-color: #E2EBFA;\n",
              "      box-shadow: 0px 1px 2px rgba(60, 64, 67, 0.3), 0px 1px 3px 1px rgba(60, 64, 67, 0.15);\n",
              "      fill: #174EA6;\n",
              "    }\n",
              "\n",
              "    .colab-df-buttons div {\n",
              "      margin-bottom: 4px;\n",
              "    }\n",
              "\n",
              "    [theme=dark] .colab-df-convert {\n",
              "      background-color: #3B4455;\n",
              "      fill: #D2E3FC;\n",
              "    }\n",
              "\n",
              "    [theme=dark] .colab-df-convert:hover {\n",
              "      background-color: #434B5C;\n",
              "      box-shadow: 0px 1px 3px 1px rgba(0, 0, 0, 0.15);\n",
              "      filter: drop-shadow(0px 1px 2px rgba(0, 0, 0, 0.3));\n",
              "      fill: #FFFFFF;\n",
              "    }\n",
              "  </style>\n",
              "\n",
              "    <script>\n",
              "      const buttonEl =\n",
              "        document.querySelector('#df-d1976a6e-4768-4bf7-b73e-748db2a14382 button.colab-df-convert');\n",
              "      buttonEl.style.display =\n",
              "        google.colab.kernel.accessAllowed ? 'block' : 'none';\n",
              "\n",
              "      async function convertToInteractive(key) {\n",
              "        const element = document.querySelector('#df-d1976a6e-4768-4bf7-b73e-748db2a14382');\n",
              "        const dataTable =\n",
              "          await google.colab.kernel.invokeFunction('convertToInteractive',\n",
              "                                                    [key], {});\n",
              "        if (!dataTable) return;\n",
              "\n",
              "        const docLinkHtml = 'Like what you see? Visit the ' +\n",
              "          '<a target=\"_blank\" href=https://colab.research.google.com/notebooks/data_table.ipynb>data table notebook</a>'\n",
              "          + ' to learn more about interactive tables.';\n",
              "        element.innerHTML = '';\n",
              "        dataTable['output_type'] = 'display_data';\n",
              "        await google.colab.output.renderOutput(dataTable, element);\n",
              "        const docLink = document.createElement('div');\n",
              "        docLink.innerHTML = docLinkHtml;\n",
              "        element.appendChild(docLink);\n",
              "      }\n",
              "    </script>\n",
              "  </div>\n",
              "\n",
              "\n",
              "<div id=\"df-2840166f-1458-454b-a8ad-582fd352312f\">\n",
              "  <button class=\"colab-df-quickchart\" onclick=\"quickchart('df-2840166f-1458-454b-a8ad-582fd352312f')\"\n",
              "            title=\"Suggest charts.\"\n",
              "            style=\"display:none;\">\n",
              "\n",
              "<svg xmlns=\"http://www.w3.org/2000/svg\" height=\"24px\"viewBox=\"0 0 24 24\"\n",
              "     width=\"24px\">\n",
              "    <g>\n",
              "        <path d=\"M19 3H5c-1.1 0-2 .9-2 2v14c0 1.1.9 2 2 2h14c1.1 0 2-.9 2-2V5c0-1.1-.9-2-2-2zM9 17H7v-7h2v7zm4 0h-2V7h2v10zm4 0h-2v-4h2v4z\"/>\n",
              "    </g>\n",
              "</svg>\n",
              "  </button>\n",
              "\n",
              "<style>\n",
              "  .colab-df-quickchart {\n",
              "      --bg-color: #E8F0FE;\n",
              "      --fill-color: #1967D2;\n",
              "      --hover-bg-color: #E2EBFA;\n",
              "      --hover-fill-color: #174EA6;\n",
              "      --disabled-fill-color: #AAA;\n",
              "      --disabled-bg-color: #DDD;\n",
              "  }\n",
              "\n",
              "  [theme=dark] .colab-df-quickchart {\n",
              "      --bg-color: #3B4455;\n",
              "      --fill-color: #D2E3FC;\n",
              "      --hover-bg-color: #434B5C;\n",
              "      --hover-fill-color: #FFFFFF;\n",
              "      --disabled-bg-color: #3B4455;\n",
              "      --disabled-fill-color: #666;\n",
              "  }\n",
              "\n",
              "  .colab-df-quickchart {\n",
              "    background-color: var(--bg-color);\n",
              "    border: none;\n",
              "    border-radius: 50%;\n",
              "    cursor: pointer;\n",
              "    display: none;\n",
              "    fill: var(--fill-color);\n",
              "    height: 32px;\n",
              "    padding: 0;\n",
              "    width: 32px;\n",
              "  }\n",
              "\n",
              "  .colab-df-quickchart:hover {\n",
              "    background-color: var(--hover-bg-color);\n",
              "    box-shadow: 0 1px 2px rgba(60, 64, 67, 0.3), 0 1px 3px 1px rgba(60, 64, 67, 0.15);\n",
              "    fill: var(--button-hover-fill-color);\n",
              "  }\n",
              "\n",
              "  .colab-df-quickchart-complete:disabled,\n",
              "  .colab-df-quickchart-complete:disabled:hover {\n",
              "    background-color: var(--disabled-bg-color);\n",
              "    fill: var(--disabled-fill-color);\n",
              "    box-shadow: none;\n",
              "  }\n",
              "\n",
              "  .colab-df-spinner {\n",
              "    border: 2px solid var(--fill-color);\n",
              "    border-color: transparent;\n",
              "    border-bottom-color: var(--fill-color);\n",
              "    animation:\n",
              "      spin 1s steps(1) infinite;\n",
              "  }\n",
              "\n",
              "  @keyframes spin {\n",
              "    0% {\n",
              "      border-color: transparent;\n",
              "      border-bottom-color: var(--fill-color);\n",
              "      border-left-color: var(--fill-color);\n",
              "    }\n",
              "    20% {\n",
              "      border-color: transparent;\n",
              "      border-left-color: var(--fill-color);\n",
              "      border-top-color: var(--fill-color);\n",
              "    }\n",
              "    30% {\n",
              "      border-color: transparent;\n",
              "      border-left-color: var(--fill-color);\n",
              "      border-top-color: var(--fill-color);\n",
              "      border-right-color: var(--fill-color);\n",
              "    }\n",
              "    40% {\n",
              "      border-color: transparent;\n",
              "      border-right-color: var(--fill-color);\n",
              "      border-top-color: var(--fill-color);\n",
              "    }\n",
              "    60% {\n",
              "      border-color: transparent;\n",
              "      border-right-color: var(--fill-color);\n",
              "    }\n",
              "    80% {\n",
              "      border-color: transparent;\n",
              "      border-right-color: var(--fill-color);\n",
              "      border-bottom-color: var(--fill-color);\n",
              "    }\n",
              "    90% {\n",
              "      border-color: transparent;\n",
              "      border-bottom-color: var(--fill-color);\n",
              "    }\n",
              "  }\n",
              "</style>\n",
              "\n",
              "  <script>\n",
              "    async function quickchart(key) {\n",
              "      const quickchartButtonEl =\n",
              "        document.querySelector('#' + key + ' button');\n",
              "      quickchartButtonEl.disabled = true;  // To prevent multiple clicks.\n",
              "      quickchartButtonEl.classList.add('colab-df-spinner');\n",
              "      try {\n",
              "        const charts = await google.colab.kernel.invokeFunction(\n",
              "            'suggestCharts', [key], {});\n",
              "      } catch (error) {\n",
              "        console.error('Error during call to suggestCharts:', error);\n",
              "      }\n",
              "      quickchartButtonEl.classList.remove('colab-df-spinner');\n",
              "      quickchartButtonEl.classList.add('colab-df-quickchart-complete');\n",
              "    }\n",
              "    (() => {\n",
              "      let quickchartButtonEl =\n",
              "        document.querySelector('#df-2840166f-1458-454b-a8ad-582fd352312f button');\n",
              "      quickchartButtonEl.style.display =\n",
              "        google.colab.kernel.accessAllowed ? 'block' : 'none';\n",
              "    })();\n",
              "  </script>\n",
              "</div>\n",
              "    </div>\n",
              "  </div>\n"
            ]
          },
          "metadata": {},
          "execution_count": 6
        }
      ]
    },
    {
      "cell_type": "code",
      "source": [
        "wknd_apple = apple[pd.to_datetime(apple['Date']).dt.weekday.isin([0, 4])][['Date', 'Price',]]\n",
        "print(wknd_apple)"
      ],
      "metadata": {
        "colab": {
          "base_uri": "https://localhost:8080/"
        },
        "id": "NjFoXa9ZUt5I",
        "outputId": "7a559ee7-623b-4ce7-c661-7395f7d5352f"
      },
      "execution_count": 7,
      "outputs": [
        {
          "output_type": "stream",
          "name": "stdout",
          "text": [
            "            Date       Price\n",
            "3     2018-09-21   52.115070\n",
            "4     2018-09-24   52.864510\n",
            "8     2018-09-28   54.049706\n",
            "9     2018-10-01   54.413643\n",
            "13    2018-10-05   53.702518\n",
            "...          ...         ...\n",
            "1243  2023-08-28  180.190002\n",
            "1247  2023-09-01  189.460007\n",
            "1251  2023-09-08  178.179993\n",
            "1252  2023-09-11  179.360001\n",
            "1256  2023-09-15  175.009995\n",
            "\n",
            "[486 rows x 2 columns]\n"
          ]
        }
      ]
    },
    {
      "cell_type": "code",
      "source": [
        "monday_close = wknd_apple[wknd_apple['Date'].apply(lambda x: pd.to_datetime(x).weekday() == 0)]['Price']\n",
        "friday_close = wknd_apple[wknd_apple['Date'].apply(lambda x: pd.to_datetime(x).weekday() == 4)]['Price']\n",
        "mean_monday = monday_close.mean()\n",
        "mean_friday = friday_close.mean()\n",
        "print('Mean monday:',mean_monday.round(2))\n",
        "print('Mean friday',mean_friday.round(2))"
      ],
      "metadata": {
        "colab": {
          "base_uri": "https://localhost:8080/"
        },
        "id": "q2_573upWmUA",
        "outputId": "bd58bade-1660-455c-a14a-f3c2f3a67b45"
      },
      "execution_count": 8,
      "outputs": [
        {
          "output_type": "stream",
          "name": "stdout",
          "text": [
            "Mean monday: 112.83\n",
            "Mean friday 113.63\n"
          ]
        }
      ]
    },
    {
      "cell_type": "markdown",
      "source": [
        "The average closing price for apple on Mondays is 112.83 USD and on fridays is on average 113.63 USD, this means that the weekend effect applies for Apple."
      ],
      "metadata": {
        "id": "gHxsIiHIlSd9"
      }
    },
    {
      "cell_type": "markdown",
      "source": [
        "##Turn of the month Effect"
      ],
      "metadata": {
        "id": "SeJoWj2uniPe"
      }
    },
    {
      "cell_type": "code",
      "source": [
        "trm = apple\n",
        "trm['Date'] = pd.to_datetime(trm['Date'])\n",
        "trm['Last_Days'] = trm['Date'].apply(lambda x: x.day > (x + pd.DateOffset(days=1)).day)\n",
        "trm['First_Days'] = trm['Date'].apply(lambda x: x.day <= 3)\n",
        "trm['Middle_Days'] = ~trm['Last_Days'] & ~trm['First_Days']\n",
        "\n",
        "mean_last_days = trm[trm['Last_Days']]['Price'].mean()\n",
        "mean_first_days = trm[trm['First_Days']]['Price'].mean()\n",
        "mean_middle_days = trm[trm['Middle_Days']]['Price'].mean()\n",
        "\n",
        "print(\"Mean Price Last Days:\", mean_last_days.round(2))\n",
        "print(\"Mean Price First Days:\", mean_first_days.round(2))\n",
        "print(\"Mean Price Middle Days:\", mean_middle_days.round(2))"
      ],
      "metadata": {
        "colab": {
          "base_uri": "https://localhost:8080/"
        },
        "id": "mgjUchp3Z6nT",
        "outputId": "62948982-d43b-495f-e56d-f21073ddfbf7"
      },
      "execution_count": 9,
      "outputs": [
        {
          "output_type": "stream",
          "name": "stdout",
          "text": [
            "Mean Price Last Days: 117.36\n",
            "Mean Price First Days: 116.17\n",
            "Mean Price Middle Days: 113.5\n"
          ]
        }
      ]
    },
    {
      "cell_type": "markdown",
      "source": [
        "The average price for the last days of the month and the first days of the month are higher than the average prices for the middle days, this means that the turn of the month effect holds for Apple."
      ],
      "metadata": {
        "id": "lv8nCYALo6wk"
      }
    },
    {
      "cell_type": "markdown",
      "source": [
        "##Turn of the year Effect"
      ],
      "metadata": {
        "id": "uZZiaskCpU0i"
      }
    },
    {
      "cell_type": "code",
      "source": [
        "warnings.filterwarnings('ignore')\n",
        "trny = apple[['Date','Price']]\n",
        "volume = pd.read_csv('/content/AAPL (1).csv')\n",
        "volume = volume['Volume']\n",
        "trny['Volume'] = volume\n",
        "trny[\"Last Week\"] = trny['Date'].apply(lambda x: x.day >= 25)\n",
        "trny['December'] = trny['Date'].apply(lambda x: x.month == 12)\n",
        "mean_december = trny[(trny['Last Week']) & (trny['December'])]['Price'].mean()\n",
        "volume_mean_december = trny[(trny['Last Week']) & (trny['December'])]['Volume'].mean()\n",
        "trny[\"First Half\"] = trny['Date'].apply(lambda x: x.day <= 15)\n",
        "trny['January'] = trny['Date'].apply(lambda x: x.month == 1)\n",
        "mean_january = trny[(trny['First Half']) & (trny['January'])]['Price'].mean()\n",
        "volume_mean_january = trny[(trny['First Half']) & (trny['January'])]['Volume'].mean()\n",
        "trny['First January'] = trny['First Half'] & trny['January']\n",
        "trny['Last December'] = trny['Last Week'] & trny['December']\n",
        "trny['Rest of the year'] = ~trny['Last December'] & ~trny['First January']\n",
        "mean_rest = trny[trny['Rest of the year']]['Price'].mean()\n",
        "volume_mean_rest = trny[trny['Rest of the year']]['Volume'].mean()\n",
        "print(\"Mean Price Rest of the Year\", mean_rest.round(2))\n",
        "print(\"Mean Volume Rest of the Year\", int(volume_mean_rest.round()))\n",
        "print(\"Mean Price First Half of January\", mean_january.round(2))\n",
        "print(\"Mean Volume First Half of January\", int(volume_mean_january.round()))\n",
        "print(\"Mean Price Last Week of December\", mean_december.round(2))\n",
        "print(\"Mean Volume Last Week of December\", int(volume_mean_december.round()))"
      ],
      "metadata": {
        "colab": {
          "base_uri": "https://localhost:8080/"
        },
        "id": "788SIaVdffRN",
        "outputId": "2aee68e5-52f7-4deb-8f6d-df586c02e585"
      },
      "execution_count": 10,
      "outputs": [
        {
          "output_type": "stream",
          "name": "stdout",
          "text": [
            "Mean Price Rest of the Year 114.17\n",
            "Mean Volume Rest of the Year 107440024\n",
            "Mean Price First Half of January 107.71\n",
            "Mean Volume First Half of January 119715059\n",
            "Mean Price Last Week of December 112.54\n",
            "Mean Volume Last Week of December 110896171\n"
          ]
        }
      ]
    },
    {
      "cell_type": "markdown",
      "source": [
        "The average price of the first half of january and the last week of december, is lower than the average price of the rest of the year, this means that the turn of the year effect doesn't hold for apple. However the volume for the first half of january and the last week of december is higher than the rest of the year on average."
      ],
      "metadata": {
        "id": "kQsbCWxgqXzv"
      }
    },
    {
      "cell_type": "markdown",
      "source": [
        "##January Effect"
      ],
      "metadata": {
        "id": "dmZ7u0FOu_x0"
      }
    },
    {
      "cell_type": "code",
      "source": [
        "spx = pd.read_csv('/content/^SPX (1).csv')\n",
        "spx = spx[['Date','Adj Close']]\n",
        "spx = spx.rename(columns={'Adj Close': 'Price'})\n",
        "apple = apple[['Date','Price']]\n",
        "spx['Date'] = pd.to_datetime(spx['Date'])\n",
        "spx['Return'] = spx['Price'].pct_change() * 100\n",
        "apple['Date'] = pd.to_datetime(apple['Date'])\n",
        "apple['Return'] = trm['Price'].pct_change() * 100\n",
        "spx[\"First Weeks\"] = spx['Date'].apply(lambda x: x.day <= 18)\n",
        "spx['January'] = spx['Date'].apply(lambda x: x.month == 1)\n",
        "apple[\"First Weeks\"] = apple['Date'].apply(lambda x: x.day <= 18)\n",
        "apple['January'] = apple['Date'].apply(lambda x: x.month == 1)\n",
        "mean_spx = spx[(spx['First Weeks']) & (trny['January'])]['Return'].mean()\n",
        "mean_apple = apple[(apple['First Weeks']) & (trny['January'])]['Return'].mean()\n",
        "print(\"Apple return Mean\", mean_apple.round(2))\n",
        "print(\"S&P 500 return Mean\", mean_spx.round(2))"
      ],
      "metadata": {
        "colab": {
          "base_uri": "https://localhost:8080/"
        },
        "id": "Q4meFeavrOdg",
        "outputId": "ae28dd37-d9bc-4680-a7d5-02399b35c639"
      },
      "execution_count": 11,
      "outputs": [
        {
          "output_type": "stream",
          "name": "stdout",
          "text": [
            "Apple return Mean 0.07\n",
            "S&P 500 return Mean 0.14\n"
          ]
        }
      ]
    },
    {
      "cell_type": "markdown",
      "source": [
        "The S&P 500 return for the first weeks of january are on average higher than the return for the same period for Apple. However, Apple is not a small company so the January effect doesn't apply either way."
      ],
      "metadata": {
        "id": "AMaM48STvEI5"
      }
    },
    {
      "cell_type": "markdown",
      "source": [
        "#Part B"
      ],
      "metadata": {
        "id": "mfOxDotJngmT"
      }
    },
    {
      "cell_type": "markdown",
      "source": [
        "##Comparison Small vs Large Cap"
      ],
      "metadata": {
        "id": "mAueToYZvEj3"
      }
    },
    {
      "cell_type": "code",
      "source": [
        "target = pd.read_csv('/content/TGT.csv')\n",
        "ligand = pd.read_csv('/content/LGND.csv')\n",
        "target = target[['Date', 'Adj Close']]\n",
        "ligand = ligand[['Date', 'Adj Close']]\n",
        "target['Return'] = target['Adj Close'].pct_change() * 100\n",
        "ligand['Return'] = ligand['Adj Close'].pct_change() * 100\n",
        "target['Date'] = pd.to_datetime(target['Date'])\n",
        "ligand['Date'] = pd.to_datetime(ligand['Date'])\n",
        "target['Year'] = target['Date'].dt.year\n",
        "ligand['Year'] = ligand['Date'].dt.year\n",
        "\n",
        "target = target.set_index('Date')\n",
        "ligand = ligand.set_index('Date')\n",
        "target_yearly = target.resample('Y').mean()\n",
        "ligand_yearly = ligand.resample('Y').mean()\n",
        "target_yearly['Yearly_Return'] = target_yearly['Adj Close'].pct_change() * 100\n",
        "ligand_yearly['Yearly_Return'] = ligand_yearly['Adj Close'].pct_change() * 100\n",
        "\n",
        "\n",
        "plt.figure(figsize=(12, 6))\n",
        "plt.plot(target_yearly.index, target_yearly['Yearly_Return'], label='Target', marker='o')\n",
        "plt.plot(ligand_yearly.index, ligand_yearly['Yearly_Return'], label='Ligand', marker='o')\n",
        "plt.legend()\n",
        "plt.title('Yearly Returns Comparison')\n",
        "plt.xlabel('Date')\n",
        "plt.ylabel('Yearly Return (%)')\n",
        "plt.grid(True)\n",
        "plt.show()"
      ],
      "metadata": {
        "colab": {
          "base_uri": "https://localhost:8080/",
          "height": 516
        },
        "id": "L0RJUGNCwXaN",
        "outputId": "dfc59f4b-8aec-410d-b45d-bd73bd84d635"
      },
      "execution_count": 12,
      "outputs": [
        {
          "output_type": "display_data",
          "data": {
            "text/plain": [
              "<Figure size 1200x600 with 1 Axes>"
            ],
            "image/png": "[encoded data removed]"
          },
          "metadata": {}
        }
      ]
    },
    {
      "cell_type": "markdown",
      "source": [
        "This graph shows that the small stock (Ligand) is more volatile than the large stock (Target)."
      ],
      "metadata": {
        "id": "0w-VLUp0nT2a"
      }
    },
    {
      "cell_type": "code",
      "source": [
        "comparison = pd.DataFrame({\n",
        "    'Target': target_yearly['Yearly_Return'],\n",
        "    'Ligand': ligand_yearly['Yearly_Return']\n",
        "})\n",
        "comparison = comparison.iloc[1:]"
      ],
      "metadata": {
        "id": "mlp0bGTO_b8y"
      },
      "execution_count": 13,
      "outputs": []
    },
    {
      "cell_type": "code",
      "source": [
        "initial_investment = 100\n",
        "final_amount_target = initial_investment\n",
        "final_amount_ligand = initial_investment\n",
        "\n",
        "for index, row in comparison.iterrows():\n",
        "    final_amount_target *= (1 + row['Target']/100)\n",
        "    final_amount_ligand *= (1 + row['Ligand']/100)\n",
        "\n",
        "print(f\"Your investment in Target would be worth ${final_amount_target.round(2)} after the years.\")\n",
        "print(f\"Your investment in Ligand would be worth ${final_amount_ligand.round(2)} after the years.\")\n"
      ],
      "metadata": {
        "colab": {
          "base_uri": "https://localhost:8080/"
        },
        "id": "6fJxAYRoCATy",
        "outputId": "d3aa8bbd-9d69-4eb2-d0b0-289b65e3b428"
      },
      "execution_count": 14,
      "outputs": [
        {
          "output_type": "stream",
          "name": "stdout",
          "text": [
            "Your investment in Target would be worth $3992.38 after the years.\n",
            "Your investment in Ligand would be worth $237.04 after the years.\n"
          ]
        }
      ]
    },
    {
      "cell_type": "markdown",
      "source": [
        "In this case small stocks do not outperform large stocks because as the previous code shows, an investment of 100 USD would be worth 3992.38 USD if invested in Target (large stock) but i would only be worth 237.04 USD if invested in Lingand (small stock)."
      ],
      "metadata": {
        "id": "hK_aEzComY0-"
      }
    }
  ]
}