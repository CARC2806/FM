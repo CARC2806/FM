{
  "nbformat": 4,
  "nbformat_minor": 0,
  "metadata": {
    "colab": {
      "provenance": [],
      "authorship_tag": "ABX9TyOpFy31h9NQ81Xx6hs6YCHi",
      "include_colab_link": true
    },
    "kernelspec": {
      "name": "python3",
      "display_name": "Python 3"
    },
    "language_info": {
      "name": "python"
    }
  },
  "cells": [
    {
      "cell_type": "markdown",
      "metadata": {
        "id": "view-in-github",
        "colab_type": "text"
      },
      "source": [
        "<a href=\"https://colab.research.google.com/github/CARC2806/FM/blob/main/Actividad_1_m2_Valuaci%C3%B3n_de_Cryptoactivos.ipynb\" target=\"_parent\"><img src=\"https://colab.research.google.com/assets/colab-badge.svg\" alt=\"Open In Colab\"/></a>"
      ]
    },
    {
      "cell_type": "code",
      "source": [
        "import pandas as pd\n",
        "import numpy as np\n",
        "\n",
        "btc = pd.read_csv('/content/BTC-USD.csv')\n",
        "eth = pd.read_csv('/content/ETH-USD.csv')\n",
        "coti = pd.read_csv('/content/COTI-USD.csv')\n",
        "\n",
        "btc['Date'] = pd.to_datetime(btc['Date'])\n",
        "eth['Date'] = pd.to_datetime(eth['Date'])\n",
        "coti['Date'] = pd.to_datetime(coti['Date'])\n",
        "\n",
        "\n",
        "btc['Oscilaciones estocásticas'] = ((btc['Adj Close'] - btc['Low']) / (btc['High'] - btc['Low'])) * 100\n",
        "eth['Oscilaciones estocásticas'] = ((eth['Adj Close'] - eth['Low']) / (eth['High'] - eth['Low'])) * 100\n",
        "coti['Oscilaciones estocásticas'] = ((coti['Adj Close'] - coti['Low']) / (coti['High'] - coti['Low'])) * 100\n",
        "\n",
        "btc['Oscilaciones estocásticas'] = btc['Oscilaciones estocásticas'].round()\n",
        "eth['Oscilaciones estocásticas'] = eth['Oscilaciones estocásticas'].round()\n",
        "coti['Oscilaciones estocásticas'] = coti['Oscilaciones estocásticas'].round()\n",
        "\n",
        "btc['Indicador'] = np.where(btc['Oscilaciones estocásticas'] > 50, 'Sobrecompra', 'Sobreventa')\n",
        "eth['Indicador'] = np.where(eth['Oscilaciones estocásticas'] > 50, 'Sobrecompra', 'Sobreventa')\n",
        "coti['Indicador'] = np.where(coti['Oscilaciones estocásticas'] > 50, 'Sobrecompra', 'Sobreventa')\n",
        "\n",
        "btc['Date'] = btc['Date'].dt.strftime('%B')\n",
        "eth['Date'] = eth['Date'].dt.strftime('%B')\n",
        "coti['Date'] = coti['Date'].dt.strftime('%B')\n",
        "\n",
        "crypto = btc[['Date','Oscilaciones estocásticas', 'Indicador']]\n",
        "crypto.rename(columns={'Oscilaciones estocásticas': 'BTC Resultados'}, inplace=True)\n",
        "crypto.rename(columns={'Indicador': 'BTC Indicador'}, inplace=True)\n",
        "\n",
        "crypto['Eth Indicador'] = eth['Oscilaciones estocásticas']\n",
        "crypto['Eth Resultados'] = eth['Indicador']\n",
        "crypto['COTI Indicador'] = coti['Oscilaciones estocásticas']\n",
        "crypto['COTI Resultados'] = coti['Indicador']\n",
        "\n",
        "\n",
        "print(crypto)\n",
        "\n",
        "# Export the DataFrame to a CSV file\n",
        "crypto.to_csv('crypto.csv', index=False)\n",
        "\n",
        "# To download the file to your local system\n",
        "from google.colab import files\n",
        "files.download('crypto.csv')\n"
      ],
      "metadata": {
        "colab": {
          "base_uri": "https://localhost:8080/",
          "height": 1000
        },
        "id": "0IOo45YnTQ-o",
        "outputId": "0650b001-823f-4406-8f0c-6d3f64c92385"
      },
      "execution_count": null,
      "outputs": [
        {
          "output_type": "stream",
          "name": "stdout",
          "text": [
            "         Date  BTC Resultados BTC Indicador  Eth Indicador Eth Resultados  \\\n",
            "0       March            93.0   Sobrecompra           93.0    Sobrecompra   \n",
            "1       April            56.0   Sobrecompra           30.0     Sobreventa   \n",
            "2         May            34.0    Sobreventa           48.0     Sobreventa   \n",
            "3        June            86.0   Sobrecompra           96.0    Sobrecompra   \n",
            "4        July            10.0    Sobreventa           12.0     Sobreventa   \n",
            "5      August            11.0    Sobreventa           29.0     Sobreventa   \n",
            "6   September            80.0   Sobrecompra           87.0    Sobrecompra   \n",
            "7     October            94.0   Sobrecompra           86.0    Sobrecompra   \n",
            "8    November            84.0   Sobrecompra           77.0    Sobrecompra   \n",
            "9    December            66.0   Sobrecompra           59.0    Sobrecompra   \n",
            "10    January            39.0    Sobreventa           28.0     Sobreventa   \n",
            "11   February            80.0   Sobrecompra           86.0    Sobrecompra   \n",
            "12   February           100.0   Sobrecompra          100.0    Sobrecompra   \n",
            "\n",
            "    COTI Indicador COTI Resultados  \n",
            "0             65.0     Sobrecompra  \n",
            "1             13.0      Sobreventa  \n",
            "2             31.0      Sobreventa  \n",
            "3             34.0      Sobreventa  \n",
            "4             14.0      Sobreventa  \n",
            "5              3.0      Sobreventa  \n",
            "6             51.0     Sobrecompra  \n",
            "7             87.0     Sobrecompra  \n",
            "8             76.0     Sobrecompra  \n",
            "9             63.0     Sobrecompra  \n",
            "10            24.0      Sobreventa  \n",
            "11            98.0     Sobrecompra  \n",
            "12             0.0      Sobreventa  \n"
          ]
        },
        {
          "output_type": "stream",
          "name": "stderr",
          "text": [
            "<ipython-input-45-52548b6dbfbc>:30: SettingWithCopyWarning: \n",
            "A value is trying to be set on a copy of a slice from a DataFrame\n",
            "\n",
            "See the caveats in the documentation: https://pandas.pydata.org/pandas-docs/stable/user_guide/indexing.html#returning-a-view-versus-a-copy\n",
            "  crypto.rename(columns={'Oscilaciones estocásticas': 'BTC Resultados'}, inplace=True)\n",
            "<ipython-input-45-52548b6dbfbc>:31: SettingWithCopyWarning: \n",
            "A value is trying to be set on a copy of a slice from a DataFrame\n",
            "\n",
            "See the caveats in the documentation: https://pandas.pydata.org/pandas-docs/stable/user_guide/indexing.html#returning-a-view-versus-a-copy\n",
            "  crypto.rename(columns={'Indicador': 'BTC Indicador'}, inplace=True)\n",
            "<ipython-input-45-52548b6dbfbc>:33: SettingWithCopyWarning: \n",
            "A value is trying to be set on a copy of a slice from a DataFrame.\n",
            "Try using .loc[row_indexer,col_indexer] = value instead\n",
            "\n",
            "See the caveats in the documentation: https://pandas.pydata.org/pandas-docs/stable/user_guide/indexing.html#returning-a-view-versus-a-copy\n",
            "  crypto['Eth Indicador'] = eth['Oscilaciones estocásticas']\n",
            "<ipython-input-45-52548b6dbfbc>:34: SettingWithCopyWarning: \n",
            "A value is trying to be set on a copy of a slice from a DataFrame.\n",
            "Try using .loc[row_indexer,col_indexer] = value instead\n",
            "\n",
            "See the caveats in the documentation: https://pandas.pydata.org/pandas-docs/stable/user_guide/indexing.html#returning-a-view-versus-a-copy\n",
            "  crypto['Eth Resultados'] = eth['Indicador']\n",
            "<ipython-input-45-52548b6dbfbc>:35: SettingWithCopyWarning: \n",
            "A value is trying to be set on a copy of a slice from a DataFrame.\n",
            "Try using .loc[row_indexer,col_indexer] = value instead\n",
            "\n",
            "See the caveats in the documentation: https://pandas.pydata.org/pandas-docs/stable/user_guide/indexing.html#returning-a-view-versus-a-copy\n",
            "  crypto['COTI Indicador'] = coti['Oscilaciones estocásticas']\n",
            "<ipython-input-45-52548b6dbfbc>:36: SettingWithCopyWarning: \n",
            "A value is trying to be set on a copy of a slice from a DataFrame.\n",
            "Try using .loc[row_indexer,col_indexer] = value instead\n",
            "\n",
            "See the caveats in the documentation: https://pandas.pydata.org/pandas-docs/stable/user_guide/indexing.html#returning-a-view-versus-a-copy\n",
            "  crypto['COTI Resultados'] = coti['Indicador']\n"
          ]
        },
        {
          "output_type": "display_data",
          "data": {
            "text/plain": [
              "<IPython.core.display.Javascript object>"
            ],
            "application/javascript": [
              "\n",
              "    async function download(id, filename, size) {\n",
              "      if (!google.colab.kernel.accessAllowed) {\n",
              "        return;\n",
              "      }\n",
              "      const div = document.createElement('div');\n",
              "      const label = document.createElement('label');\n",
              "      label.textContent = `Downloading \"${filename}\": `;\n",
              "      div.appendChild(label);\n",
              "      const progress = document.createElement('progress');\n",
              "      progress.max = size;\n",
              "      div.appendChild(progress);\n",
              "      document.body.appendChild(div);\n",
              "\n",
              "      const buffers = [];\n",
              "      let downloaded = 0;\n",
              "\n",
              "      const channel = await google.colab.kernel.comms.open(id);\n",
              "      // Send a message to notify the kernel that we're ready.\n",
              "      channel.send({})\n",
              "\n",
              "      for await (const message of channel.messages) {\n",
              "        // Send a message to notify the kernel that we're ready.\n",
              "        channel.send({})\n",
              "        if (message.buffers) {\n",
              "          for (const buffer of message.buffers) {\n",
              "            buffers.push(buffer);\n",
              "            downloaded += buffer.byteLength;\n",
              "            progress.value = downloaded;\n",
              "          }\n",
              "        }\n",
              "      }\n",
              "      const blob = new Blob(buffers, {type: 'application/binary'});\n",
              "      const a = document.createElement('a');\n",
              "      a.href = window.URL.createObjectURL(blob);\n",
              "      a.download = filename;\n",
              "      div.appendChild(a);\n",
              "      a.click();\n",
              "      div.remove();\n",
              "    }\n",
              "  "
            ]
          },
          "metadata": {}
        },
        {
          "output_type": "display_data",
          "data": {
            "text/plain": [
              "<IPython.core.display.Javascript object>"
            ],
            "application/javascript": [
              "download(\"download_1b6c1f87-6070-4ffc-ba05-bf842df874f9\", \"crypto.csv\", 836)"
            ]
          },
          "metadata": {}
        }
      ]
    }
  ]
}